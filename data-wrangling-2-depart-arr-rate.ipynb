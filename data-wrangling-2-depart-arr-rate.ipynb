{
 "cells": [
  {
   "cell_type": "code",
   "execution_count": 48,
   "metadata": {
    "collapsed": true
   },
   "outputs": [],
   "source": [
    "import pandas as pd\n",
    "import numpy as np"
   ]
  },
  {
   "cell_type": "code",
   "execution_count": 49,
   "metadata": {
    "collapsed": true
   },
   "outputs": [],
   "source": [
    "df = pd.read_csv('data/2011-cabi-trip-history-data-final.csv', parse_dates=['start_date','end_date'])"
   ]
  },
  {
   "cell_type": "code",
   "execution_count": 50,
   "metadata": {},
   "outputs": [
    {
     "name": "stdout",
     "output_type": "stream",
     "text": [
      "<class 'pandas.core.frame.DataFrame'>\n",
      "RangeIndex: 1127471 entries, 0 to 1127470\n",
      "Data columns (total 7 columns):\n",
      "start_date            1127471 non-null datetime64[ns]\n",
      "end_date              1127471 non-null datetime64[ns]\n",
      "duration_in_sec       1127471 non-null int64\n",
      "start_station_name    1127471 non-null object\n",
      "end_station_name      1127471 non-null object\n",
      "bike#                 1127471 non-null object\n",
      "member_type           1127471 non-null object\n",
      "dtypes: datetime64[ns](2), int64(1), object(4)\n",
      "memory usage: 60.2+ MB\n"
     ]
    }
   ],
   "source": [
    "df.info()"
   ]
  },
  {
   "cell_type": "markdown",
   "metadata": {},
   "source": [
    "__ 1. Count the number of departure from each station in every month, store the result in df_depart __"
   ]
  },
  {
   "cell_type": "code",
   "execution_count": 51,
   "metadata": {
    "collapsed": true
   },
   "outputs": [],
   "source": [
    "df_depart = df.groupby([df.start_station_name,df.start_date.dt.month]).count()"
   ]
  },
  {
   "cell_type": "code",
   "execution_count": 52,
   "metadata": {
    "collapsed": true
   },
   "outputs": [],
   "source": [
    "df_depart.index.names = ['start_station','month']"
   ]
  },
  {
   "cell_type": "code",
   "execution_count": 53,
   "metadata": {
    "collapsed": true
   },
   "outputs": [],
   "source": [
    "df_depart.reset_index(inplace=True)"
   ]
  },
  {
   "cell_type": "code",
   "execution_count": 54,
   "metadata": {
    "collapsed": true
   },
   "outputs": [],
   "source": [
    "df_depart.drop(['end_date','duration_in_sec','end_station_name','bike#','member_type'], axis=1, inplace=True)"
   ]
  },
  {
   "cell_type": "code",
   "execution_count": 55,
   "metadata": {
    "collapsed": true
   },
   "outputs": [],
   "source": [
    "df_depart.rename(columns = {'start_date':'count_depart'},inplace=True)"
   ]
  },
  {
   "cell_type": "code",
   "execution_count": 56,
   "metadata": {},
   "outputs": [
    {
     "name": "stdout",
     "output_type": "stream",
     "text": [
      "<class 'pandas.core.frame.DataFrame'>\n",
      "RangeIndex: 1370 entries, 0 to 1369\n",
      "Data columns (total 3 columns):\n",
      "start_station    1370 non-null object\n",
      "month            1370 non-null int64\n",
      "count_depart     1370 non-null int64\n",
      "dtypes: int64(2), object(1)\n",
      "memory usage: 32.2+ KB\n"
     ]
    }
   ],
   "source": [
    "df_depart.info()"
   ]
  },
  {
   "cell_type": "code",
   "execution_count": 57,
   "metadata": {},
   "outputs": [
    {
     "data": {
      "text/html": [
       "<div>\n",
       "<style>\n",
       "    .dataframe thead tr:only-child th {\n",
       "        text-align: right;\n",
       "    }\n",
       "\n",
       "    .dataframe thead th {\n",
       "        text-align: left;\n",
       "    }\n",
       "\n",
       "    .dataframe tbody tr th {\n",
       "        vertical-align: top;\n",
       "    }\n",
       "</style>\n",
       "<table border=\"1\" class=\"dataframe\">\n",
       "  <thead>\n",
       "    <tr style=\"text-align: right;\">\n",
       "      <th></th>\n",
       "      <th>start_station</th>\n",
       "      <th>month</th>\n",
       "      <th>count_depart</th>\n",
       "    </tr>\n",
       "  </thead>\n",
       "  <tbody>\n",
       "    <tr>\n",
       "      <th>0</th>\n",
       "      <td>10th &amp; Monroe St NE</td>\n",
       "      <td>1</td>\n",
       "      <td>62</td>\n",
       "    </tr>\n",
       "    <tr>\n",
       "      <th>1</th>\n",
       "      <td>10th &amp; Monroe St NE</td>\n",
       "      <td>2</td>\n",
       "      <td>86</td>\n",
       "    </tr>\n",
       "    <tr>\n",
       "      <th>2</th>\n",
       "      <td>10th &amp; Monroe St NE</td>\n",
       "      <td>3</td>\n",
       "      <td>83</td>\n",
       "    </tr>\n",
       "    <tr>\n",
       "      <th>3</th>\n",
       "      <td>10th &amp; Monroe St NE</td>\n",
       "      <td>4</td>\n",
       "      <td>168</td>\n",
       "    </tr>\n",
       "    <tr>\n",
       "      <th>4</th>\n",
       "      <td>10th &amp; Monroe St NE</td>\n",
       "      <td>5</td>\n",
       "      <td>251</td>\n",
       "    </tr>\n",
       "    <tr>\n",
       "      <th>5</th>\n",
       "      <td>10th &amp; Monroe St NE</td>\n",
       "      <td>6</td>\n",
       "      <td>227</td>\n",
       "    </tr>\n",
       "    <tr>\n",
       "      <th>6</th>\n",
       "      <td>10th &amp; Monroe St NE</td>\n",
       "      <td>7</td>\n",
       "      <td>229</td>\n",
       "    </tr>\n",
       "    <tr>\n",
       "      <th>7</th>\n",
       "      <td>10th &amp; Monroe St NE</td>\n",
       "      <td>8</td>\n",
       "      <td>230</td>\n",
       "    </tr>\n",
       "    <tr>\n",
       "      <th>8</th>\n",
       "      <td>10th &amp; Monroe St NE</td>\n",
       "      <td>9</td>\n",
       "      <td>216</td>\n",
       "    </tr>\n",
       "    <tr>\n",
       "      <th>9</th>\n",
       "      <td>10th &amp; Monroe St NE</td>\n",
       "      <td>10</td>\n",
       "      <td>207</td>\n",
       "    </tr>\n",
       "    <tr>\n",
       "      <th>10</th>\n",
       "      <td>10th &amp; Monroe St NE</td>\n",
       "      <td>11</td>\n",
       "      <td>165</td>\n",
       "    </tr>\n",
       "    <tr>\n",
       "      <th>11</th>\n",
       "      <td>10th &amp; Monroe St NE</td>\n",
       "      <td>12</td>\n",
       "      <td>180</td>\n",
       "    </tr>\n",
       "  </tbody>\n",
       "</table>\n",
       "</div>"
      ],
      "text/plain": [
       "          start_station  month  count_depart\n",
       "0   10th & Monroe St NE      1            62\n",
       "1   10th & Monroe St NE      2            86\n",
       "2   10th & Monroe St NE      3            83\n",
       "3   10th & Monroe St NE      4           168\n",
       "4   10th & Monroe St NE      5           251\n",
       "5   10th & Monroe St NE      6           227\n",
       "6   10th & Monroe St NE      7           229\n",
       "7   10th & Monroe St NE      8           230\n",
       "8   10th & Monroe St NE      9           216\n",
       "9   10th & Monroe St NE     10           207\n",
       "10  10th & Monroe St NE     11           165\n",
       "11  10th & Monroe St NE     12           180"
      ]
     },
     "execution_count": 57,
     "metadata": {},
     "output_type": "execute_result"
    }
   ],
   "source": [
    "df_depart.head(12)"
   ]
  },
  {
   "cell_type": "markdown",
   "metadata": {},
   "source": [
    "__ 2. Count the number of arrival to each station in every month, store the result in df_arr __"
   ]
  },
  {
   "cell_type": "code",
   "execution_count": 58,
   "metadata": {
    "collapsed": true
   },
   "outputs": [],
   "source": [
    "df_arr = df.groupby([df.end_station_name,df.end_date.dt.month]).count()"
   ]
  },
  {
   "cell_type": "code",
   "execution_count": 59,
   "metadata": {
    "collapsed": true
   },
   "outputs": [],
   "source": [
    "df_arr.index.names = ['end_station','month']"
   ]
  },
  {
   "cell_type": "code",
   "execution_count": 60,
   "metadata": {
    "collapsed": true
   },
   "outputs": [],
   "source": [
    "df_arr.reset_index(inplace=True)"
   ]
  },
  {
   "cell_type": "code",
   "execution_count": 61,
   "metadata": {
    "collapsed": true
   },
   "outputs": [],
   "source": [
    "df_arr.drop(['end_date','duration_in_sec','start_station_name','bike#','member_type'], axis=1, inplace=True)"
   ]
  },
  {
   "cell_type": "code",
   "execution_count": 62,
   "metadata": {
    "collapsed": true
   },
   "outputs": [],
   "source": [
    "df_arr.rename(columns = {'start_date':'count_arr'},inplace=True)"
   ]
  },
  {
   "cell_type": "code",
   "execution_count": 63,
   "metadata": {},
   "outputs": [
    {
     "data": {
      "text/html": [
       "<div>\n",
       "<style>\n",
       "    .dataframe thead tr:only-child th {\n",
       "        text-align: right;\n",
       "    }\n",
       "\n",
       "    .dataframe thead th {\n",
       "        text-align: left;\n",
       "    }\n",
       "\n",
       "    .dataframe tbody tr th {\n",
       "        vertical-align: top;\n",
       "    }\n",
       "</style>\n",
       "<table border=\"1\" class=\"dataframe\">\n",
       "  <thead>\n",
       "    <tr style=\"text-align: right;\">\n",
       "      <th></th>\n",
       "      <th>end_station</th>\n",
       "      <th>month</th>\n",
       "      <th>count_arr</th>\n",
       "    </tr>\n",
       "  </thead>\n",
       "  <tbody>\n",
       "    <tr>\n",
       "      <th>0</th>\n",
       "      <td>10th &amp; Monroe St NE</td>\n",
       "      <td>1</td>\n",
       "      <td>53</td>\n",
       "    </tr>\n",
       "    <tr>\n",
       "      <th>1</th>\n",
       "      <td>10th &amp; Monroe St NE</td>\n",
       "      <td>2</td>\n",
       "      <td>73</td>\n",
       "    </tr>\n",
       "    <tr>\n",
       "      <th>2</th>\n",
       "      <td>10th &amp; Monroe St NE</td>\n",
       "      <td>3</td>\n",
       "      <td>76</td>\n",
       "    </tr>\n",
       "    <tr>\n",
       "      <th>3</th>\n",
       "      <td>10th &amp; Monroe St NE</td>\n",
       "      <td>4</td>\n",
       "      <td>149</td>\n",
       "    </tr>\n",
       "    <tr>\n",
       "      <th>4</th>\n",
       "      <td>10th &amp; Monroe St NE</td>\n",
       "      <td>5</td>\n",
       "      <td>224</td>\n",
       "    </tr>\n",
       "    <tr>\n",
       "      <th>5</th>\n",
       "      <td>10th &amp; Monroe St NE</td>\n",
       "      <td>6</td>\n",
       "      <td>196</td>\n",
       "    </tr>\n",
       "    <tr>\n",
       "      <th>6</th>\n",
       "      <td>10th &amp; Monroe St NE</td>\n",
       "      <td>7</td>\n",
       "      <td>229</td>\n",
       "    </tr>\n",
       "    <tr>\n",
       "      <th>7</th>\n",
       "      <td>10th &amp; Monroe St NE</td>\n",
       "      <td>8</td>\n",
       "      <td>218</td>\n",
       "    </tr>\n",
       "    <tr>\n",
       "      <th>8</th>\n",
       "      <td>10th &amp; Monroe St NE</td>\n",
       "      <td>9</td>\n",
       "      <td>192</td>\n",
       "    </tr>\n",
       "    <tr>\n",
       "      <th>9</th>\n",
       "      <td>10th &amp; Monroe St NE</td>\n",
       "      <td>10</td>\n",
       "      <td>171</td>\n",
       "    </tr>\n",
       "    <tr>\n",
       "      <th>10</th>\n",
       "      <td>10th &amp; Monroe St NE</td>\n",
       "      <td>11</td>\n",
       "      <td>146</td>\n",
       "    </tr>\n",
       "    <tr>\n",
       "      <th>11</th>\n",
       "      <td>10th &amp; Monroe St NE</td>\n",
       "      <td>12</td>\n",
       "      <td>137</td>\n",
       "    </tr>\n",
       "  </tbody>\n",
       "</table>\n",
       "</div>"
      ],
      "text/plain": [
       "            end_station  month  count_arr\n",
       "0   10th & Monroe St NE      1         53\n",
       "1   10th & Monroe St NE      2         73\n",
       "2   10th & Monroe St NE      3         76\n",
       "3   10th & Monroe St NE      4        149\n",
       "4   10th & Monroe St NE      5        224\n",
       "5   10th & Monroe St NE      6        196\n",
       "6   10th & Monroe St NE      7        229\n",
       "7   10th & Monroe St NE      8        218\n",
       "8   10th & Monroe St NE      9        192\n",
       "9   10th & Monroe St NE     10        171\n",
       "10  10th & Monroe St NE     11        146\n",
       "11  10th & Monroe St NE     12        137"
      ]
     },
     "execution_count": 63,
     "metadata": {},
     "output_type": "execute_result"
    }
   ],
   "source": [
    "df_arr.head(12)"
   ]
  },
  {
   "cell_type": "code",
   "execution_count": 64,
   "metadata": {},
   "outputs": [
    {
     "name": "stdout",
     "output_type": "stream",
     "text": [
      "<class 'pandas.core.frame.DataFrame'>\n",
      "RangeIndex: 1374 entries, 0 to 1373\n",
      "Data columns (total 3 columns):\n",
      "end_station    1374 non-null object\n",
      "month          1374 non-null int64\n",
      "count_arr      1374 non-null int64\n",
      "dtypes: int64(2), object(1)\n",
      "memory usage: 32.3+ KB\n"
     ]
    }
   ],
   "source": [
    "df_arr.info()"
   ]
  },
  {
   "cell_type": "markdown",
   "metadata": {},
   "source": [
    "__ 3. Merge the df_depart and df_arr __"
   ]
  },
  {
   "cell_type": "code",
   "execution_count": 65,
   "metadata": {
    "collapsed": true
   },
   "outputs": [],
   "source": [
    "df_combined = pd.merge(df_arr, df_depart, left_on = ['end_station','month'], right_on = ['start_station','month'], how= 'outer')"
   ]
  },
  {
   "cell_type": "code",
   "execution_count": 66,
   "metadata": {},
   "outputs": [
    {
     "name": "stdout",
     "output_type": "stream",
     "text": [
      "<class 'pandas.core.frame.DataFrame'>\n",
      "Int64Index: 1376 entries, 0 to 1375\n",
      "Data columns (total 5 columns):\n",
      "end_station      1374 non-null object\n",
      "month            1376 non-null int64\n",
      "count_arr        1374 non-null float64\n",
      "start_station    1370 non-null object\n",
      "count_depart     1370 non-null float64\n",
      "dtypes: float64(2), int64(1), object(2)\n",
      "memory usage: 64.5+ KB\n"
     ]
    }
   ],
   "source": [
    "df_combined.info()"
   ]
  },
  {
   "cell_type": "code",
   "execution_count": 67,
   "metadata": {
    "collapsed": true
   },
   "outputs": [],
   "source": [
    "df_combined = df_combined.fillna(0)"
   ]
  },
  {
   "cell_type": "code",
   "execution_count": 68,
   "metadata": {},
   "outputs": [
    {
     "name": "stdout",
     "output_type": "stream",
     "text": [
      "<class 'pandas.core.frame.DataFrame'>\n",
      "Int64Index: 1376 entries, 0 to 1375\n",
      "Data columns (total 5 columns):\n",
      "end_station      1376 non-null object\n",
      "month            1376 non-null int64\n",
      "count_arr        1376 non-null float64\n",
      "start_station    1376 non-null object\n",
      "count_depart     1376 non-null float64\n",
      "dtypes: float64(2), int64(1), object(2)\n",
      "memory usage: 64.5+ KB\n"
     ]
    }
   ],
   "source": [
    "df_combined.info()"
   ]
  },
  {
   "cell_type": "code",
   "execution_count": 72,
   "metadata": {},
   "outputs": [],
   "source": [
    "def fill_name(row):\n",
    "    if row['end_station'] ==0 :\n",
    "        row['end_station'] = row['start_station']\n",
    "    if row['start_station'] ==0:\n",
    "        row['start_station'] = row['end_station']\n",
    "    return row\n",
    "\n",
    "df_combined = df_combined.apply(fill_name, axis=1)"
   ]
  },
  {
   "cell_type": "code",
   "execution_count": 73,
   "metadata": {},
   "outputs": [
    {
     "name": "stdout",
     "output_type": "stream",
     "text": [
      "<class 'pandas.core.frame.DataFrame'>\n",
      "Int64Index: 1376 entries, 0 to 1375\n",
      "Data columns (total 5 columns):\n",
      "end_station      1376 non-null object\n",
      "month            1376 non-null int64\n",
      "count_arr        1376 non-null float64\n",
      "start_station    1376 non-null object\n",
      "count_depart     1376 non-null float64\n",
      "dtypes: float64(2), int64(1), object(2)\n",
      "memory usage: 64.5+ KB\n"
     ]
    }
   ],
   "source": [
    "df_combined.info()"
   ]
  },
  {
   "cell_type": "code",
   "execution_count": 75,
   "metadata": {
    "collapsed": true
   },
   "outputs": [],
   "source": [
    "df_combined.rename(columns = {'end_station':'station'},inplace=True)"
   ]
  },
  {
   "cell_type": "code",
   "execution_count": 77,
   "metadata": {},
   "outputs": [
    {
     "data": {
      "text/html": [
       "<div>\n",
       "<style>\n",
       "    .dataframe thead tr:only-child th {\n",
       "        text-align: right;\n",
       "    }\n",
       "\n",
       "    .dataframe thead th {\n",
       "        text-align: left;\n",
       "    }\n",
       "\n",
       "    .dataframe tbody tr th {\n",
       "        vertical-align: top;\n",
       "    }\n",
       "</style>\n",
       "<table border=\"1\" class=\"dataframe\">\n",
       "  <thead>\n",
       "    <tr style=\"text-align: right;\">\n",
       "      <th></th>\n",
       "      <th>station</th>\n",
       "      <th>month</th>\n",
       "      <th>count_arr</th>\n",
       "      <th>start_station</th>\n",
       "      <th>count_depart</th>\n",
       "    </tr>\n",
       "  </thead>\n",
       "  <tbody>\n",
       "    <tr>\n",
       "      <th>0</th>\n",
       "      <td>10th &amp; Monroe St NE</td>\n",
       "      <td>1</td>\n",
       "      <td>53.0</td>\n",
       "      <td>10th &amp; Monroe St NE</td>\n",
       "      <td>62.0</td>\n",
       "    </tr>\n",
       "    <tr>\n",
       "      <th>1</th>\n",
       "      <td>10th &amp; Monroe St NE</td>\n",
       "      <td>2</td>\n",
       "      <td>73.0</td>\n",
       "      <td>10th &amp; Monroe St NE</td>\n",
       "      <td>86.0</td>\n",
       "    </tr>\n",
       "    <tr>\n",
       "      <th>2</th>\n",
       "      <td>10th &amp; Monroe St NE</td>\n",
       "      <td>3</td>\n",
       "      <td>76.0</td>\n",
       "      <td>10th &amp; Monroe St NE</td>\n",
       "      <td>83.0</td>\n",
       "    </tr>\n",
       "    <tr>\n",
       "      <th>3</th>\n",
       "      <td>10th &amp; Monroe St NE</td>\n",
       "      <td>4</td>\n",
       "      <td>149.0</td>\n",
       "      <td>10th &amp; Monroe St NE</td>\n",
       "      <td>168.0</td>\n",
       "    </tr>\n",
       "    <tr>\n",
       "      <th>4</th>\n",
       "      <td>10th &amp; Monroe St NE</td>\n",
       "      <td>5</td>\n",
       "      <td>224.0</td>\n",
       "      <td>10th &amp; Monroe St NE</td>\n",
       "      <td>251.0</td>\n",
       "    </tr>\n",
       "  </tbody>\n",
       "</table>\n",
       "</div>"
      ],
      "text/plain": [
       "               station  month  count_arr        start_station  count_depart\n",
       "0  10th & Monroe St NE      1       53.0  10th & Monroe St NE          62.0\n",
       "1  10th & Monroe St NE      2       73.0  10th & Monroe St NE          86.0\n",
       "2  10th & Monroe St NE      3       76.0  10th & Monroe St NE          83.0\n",
       "3  10th & Monroe St NE      4      149.0  10th & Monroe St NE         168.0\n",
       "4  10th & Monroe St NE      5      224.0  10th & Monroe St NE         251.0"
      ]
     },
     "execution_count": 77,
     "metadata": {},
     "output_type": "execute_result"
    }
   ],
   "source": [
    "df_combined.head()"
   ]
  },
  {
   "cell_type": "code",
   "execution_count": 80,
   "metadata": {},
   "outputs": [],
   "source": [
    "df_combined.drop('start_station',axis=1,inplace=True)"
   ]
  },
  {
   "cell_type": "code",
   "execution_count": 81,
   "metadata": {},
   "outputs": [
    {
     "data": {
      "text/html": [
       "<div>\n",
       "<style>\n",
       "    .dataframe thead tr:only-child th {\n",
       "        text-align: right;\n",
       "    }\n",
       "\n",
       "    .dataframe thead th {\n",
       "        text-align: left;\n",
       "    }\n",
       "\n",
       "    .dataframe tbody tr th {\n",
       "        vertical-align: top;\n",
       "    }\n",
       "</style>\n",
       "<table border=\"1\" class=\"dataframe\">\n",
       "  <thead>\n",
       "    <tr style=\"text-align: right;\">\n",
       "      <th></th>\n",
       "      <th>station</th>\n",
       "      <th>month</th>\n",
       "      <th>count_arr</th>\n",
       "      <th>count_depart</th>\n",
       "    </tr>\n",
       "  </thead>\n",
       "  <tbody>\n",
       "    <tr>\n",
       "      <th>0</th>\n",
       "      <td>10th &amp; Monroe St NE</td>\n",
       "      <td>1</td>\n",
       "      <td>53.0</td>\n",
       "      <td>62.0</td>\n",
       "    </tr>\n",
       "    <tr>\n",
       "      <th>1</th>\n",
       "      <td>10th &amp; Monroe St NE</td>\n",
       "      <td>2</td>\n",
       "      <td>73.0</td>\n",
       "      <td>86.0</td>\n",
       "    </tr>\n",
       "    <tr>\n",
       "      <th>2</th>\n",
       "      <td>10th &amp; Monroe St NE</td>\n",
       "      <td>3</td>\n",
       "      <td>76.0</td>\n",
       "      <td>83.0</td>\n",
       "    </tr>\n",
       "    <tr>\n",
       "      <th>3</th>\n",
       "      <td>10th &amp; Monroe St NE</td>\n",
       "      <td>4</td>\n",
       "      <td>149.0</td>\n",
       "      <td>168.0</td>\n",
       "    </tr>\n",
       "    <tr>\n",
       "      <th>4</th>\n",
       "      <td>10th &amp; Monroe St NE</td>\n",
       "      <td>5</td>\n",
       "      <td>224.0</td>\n",
       "      <td>251.0</td>\n",
       "    </tr>\n",
       "  </tbody>\n",
       "</table>\n",
       "</div>"
      ],
      "text/plain": [
       "               station  month  count_arr  count_depart\n",
       "0  10th & Monroe St NE      1       53.0          62.0\n",
       "1  10th & Monroe St NE      2       73.0          86.0\n",
       "2  10th & Monroe St NE      3       76.0          83.0\n",
       "3  10th & Monroe St NE      4      149.0         168.0\n",
       "4  10th & Monroe St NE      5      224.0         251.0"
      ]
     },
     "execution_count": 81,
     "metadata": {},
     "output_type": "execute_result"
    }
   ],
   "source": [
    "df_combined.head()"
   ]
  },
  {
   "cell_type": "code",
   "execution_count": 83,
   "metadata": {},
   "outputs": [],
   "source": [
    "df_combined['arr-depart'] = df_combined.count_arr-df_combined.count_depart"
   ]
  },
  {
   "cell_type": "code",
   "execution_count": 84,
   "metadata": {},
   "outputs": [
    {
     "data": {
      "text/html": [
       "<div>\n",
       "<style>\n",
       "    .dataframe thead tr:only-child th {\n",
       "        text-align: right;\n",
       "    }\n",
       "\n",
       "    .dataframe thead th {\n",
       "        text-align: left;\n",
       "    }\n",
       "\n",
       "    .dataframe tbody tr th {\n",
       "        vertical-align: top;\n",
       "    }\n",
       "</style>\n",
       "<table border=\"1\" class=\"dataframe\">\n",
       "  <thead>\n",
       "    <tr style=\"text-align: right;\">\n",
       "      <th></th>\n",
       "      <th>station</th>\n",
       "      <th>month</th>\n",
       "      <th>count_arr</th>\n",
       "      <th>count_depart</th>\n",
       "      <th>arr-depart</th>\n",
       "    </tr>\n",
       "  </thead>\n",
       "  <tbody>\n",
       "    <tr>\n",
       "      <th>0</th>\n",
       "      <td>10th &amp; Monroe St NE</td>\n",
       "      <td>1</td>\n",
       "      <td>53.0</td>\n",
       "      <td>62.0</td>\n",
       "      <td>-9.0</td>\n",
       "    </tr>\n",
       "    <tr>\n",
       "      <th>1</th>\n",
       "      <td>10th &amp; Monroe St NE</td>\n",
       "      <td>2</td>\n",
       "      <td>73.0</td>\n",
       "      <td>86.0</td>\n",
       "      <td>-13.0</td>\n",
       "    </tr>\n",
       "    <tr>\n",
       "      <th>2</th>\n",
       "      <td>10th &amp; Monroe St NE</td>\n",
       "      <td>3</td>\n",
       "      <td>76.0</td>\n",
       "      <td>83.0</td>\n",
       "      <td>-7.0</td>\n",
       "    </tr>\n",
       "    <tr>\n",
       "      <th>3</th>\n",
       "      <td>10th &amp; Monroe St NE</td>\n",
       "      <td>4</td>\n",
       "      <td>149.0</td>\n",
       "      <td>168.0</td>\n",
       "      <td>-19.0</td>\n",
       "    </tr>\n",
       "    <tr>\n",
       "      <th>4</th>\n",
       "      <td>10th &amp; Monroe St NE</td>\n",
       "      <td>5</td>\n",
       "      <td>224.0</td>\n",
       "      <td>251.0</td>\n",
       "      <td>-27.0</td>\n",
       "    </tr>\n",
       "  </tbody>\n",
       "</table>\n",
       "</div>"
      ],
      "text/plain": [
       "               station  month  count_arr  count_depart  arr-depart\n",
       "0  10th & Monroe St NE      1       53.0          62.0        -9.0\n",
       "1  10th & Monroe St NE      2       73.0          86.0       -13.0\n",
       "2  10th & Monroe St NE      3       76.0          83.0        -7.0\n",
       "3  10th & Monroe St NE      4      149.0         168.0       -19.0\n",
       "4  10th & Monroe St NE      5      224.0         251.0       -27.0"
      ]
     },
     "execution_count": 84,
     "metadata": {},
     "output_type": "execute_result"
    }
   ],
   "source": [
    "df_combined.head()"
   ]
  },
  {
   "cell_type": "code",
   "execution_count": 85,
   "metadata": {
    "collapsed": true
   },
   "outputs": [],
   "source": [
    "df_combined.to_csv('data/2011-arr-depart-rate.csv')"
   ]
  },
  {
   "cell_type": "code",
   "execution_count": null,
   "metadata": {
    "collapsed": true
   },
   "outputs": [],
   "source": []
  }
 ],
 "metadata": {
  "kernelspec": {
   "display_name": "Python 3",
   "language": "python",
   "name": "python3"
  },
  "language_info": {
   "codemirror_mode": {
    "name": "ipython",
    "version": 3
   },
   "file_extension": ".py",
   "mimetype": "text/x-python",
   "name": "python",
   "nbconvert_exporter": "python",
   "pygments_lexer": "ipython3",
   "version": "3.6.1"
  }
 },
 "nbformat": 4,
 "nbformat_minor": 2
}
