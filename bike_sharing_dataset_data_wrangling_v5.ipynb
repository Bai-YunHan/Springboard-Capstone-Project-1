{
 "cells": [
  {
   "cell_type": "markdown",
   "metadata": {},
   "source": [
    "# Data Wrangling on Bike Sharing Dataset\n",
    "1. Concat data of 2011.\n",
    " * standadize column names.\n",
    " * drop rows with duplicate and missing value.\n",
    " * concat DataFrames.\n",
    "2. Find outliers.\n",
    " * convert duration(str) to duration_in_sec(int). \n",
    " * find outliers and drop them.\n",
    "3. Extract station name.\n",
    "4. Save result to csv file."
   ]
  },
  {
   "cell_type": "code",
   "execution_count": 1,
   "metadata": {
    "collapsed": true
   },
   "outputs": [],
   "source": [
    "import pandas as pd\n",
    "import numpy as np\n",
    "from datetime import datetime\n",
    "import matplotlib.pyplot as plt\n",
    "import numpy as np\n",
    "import glob\n",
    "import re"
   ]
  },
  {
   "cell_type": "markdown",
   "metadata": {},
   "source": [
    "# Concate the data sets"
   ]
  },
  {
   "cell_type": "markdown",
   "metadata": {},
   "source": [
    "__ 1. Load files from globing to pandas. __"
   ]
  },
  {
   "cell_type": "code",
   "execution_count": 2,
   "metadata": {},
   "outputs": [
    {
     "data": {
      "text/plain": [
       "['data/2011-Q1-cabi-trip-history-data.csv',\n",
       " 'data/2011-Q2-cabi-trip-history-data.csv',\n",
       " 'data/2011-Q3-cabi-trip-history-data.csv',\n",
       " 'data/2011-Q4-cabi-trip-history-data.csv']"
      ]
     },
     "execution_count": 2,
     "metadata": {},
     "output_type": "execute_result"
    }
   ],
   "source": [
    "csv_files = glob.glob('data/2011*.csv')\n",
    "csv_files"
   ]
  },
  {
   "cell_type": "code",
   "execution_count": 3,
   "metadata": {
    "collapsed": true
   },
   "outputs": [],
   "source": [
    "new = pd.read_csv(csv_files[0])"
   ]
  },
  {
   "cell_type": "code",
   "execution_count": 4,
   "metadata": {},
   "outputs": [
    {
     "name": "stdout",
     "output_type": "stream",
     "text": [
      "<class 'pandas.core.frame.DataFrame'>\n",
      "RangeIndex: 150071 entries, 0 to 150070\n",
      "Data columns (total 7 columns):\n",
      "Duration         150071 non-null object\n",
      "Start date       150071 non-null object\n",
      "End date         150071 non-null object\n",
      "Start station    150071 non-null object\n",
      "End station      150060 non-null object\n",
      "Bike#            150071 non-null object\n",
      "Member Type      150071 non-null object\n",
      "dtypes: object(7)\n",
      "memory usage: 8.0+ MB\n"
     ]
    }
   ],
   "source": [
    "new.info()"
   ]
  },
  {
   "cell_type": "markdown",
   "metadata": {},
   "source": [
    "__ 2. Concat DataFrame from files __"
   ]
  },
  {
   "cell_type": "code",
   "execution_count": 5,
   "metadata": {
    "collapsed": true
   },
   "outputs": [],
   "source": [
    "list_data = []\n",
    "# load the data frame.\n",
    "# standardize column name, drop duplicates rows and rows with missing values.\n",
    "# append DataFrames to a list.\n",
    "# concat the DataFrame\n",
    "for filename in csv_files:\n",
    "    data = pd.read_csv(filename)\n",
    "    data.columns = ['duration','start_date','end_date','start_station','end_station','bike#','member_type']\n",
    "    data = data.drop_duplicates()\n",
    "    data = data.dropna()\n",
    "    list_data.append(data)\n",
    "df = pd.concat(list_data, ignore_index=True)"
   ]
  },
  {
   "cell_type": "code",
   "execution_count": 6,
   "metadata": {},
   "outputs": [
    {
     "data": {
      "text/html": [
       "<div>\n",
       "<style>\n",
       "    .dataframe thead tr:only-child th {\n",
       "        text-align: right;\n",
       "    }\n",
       "\n",
       "    .dataframe thead th {\n",
       "        text-align: left;\n",
       "    }\n",
       "\n",
       "    .dataframe tbody tr th {\n",
       "        vertical-align: top;\n",
       "    }\n",
       "</style>\n",
       "<table border=\"1\" class=\"dataframe\">\n",
       "  <thead>\n",
       "    <tr style=\"text-align: right;\">\n",
       "      <th></th>\n",
       "      <th>duration</th>\n",
       "      <th>start_date</th>\n",
       "      <th>end_date</th>\n",
       "      <th>start_station</th>\n",
       "      <th>end_station</th>\n",
       "      <th>bike#</th>\n",
       "      <th>member_type</th>\n",
       "    </tr>\n",
       "  </thead>\n",
       "  <tbody>\n",
       "    <tr>\n",
       "      <th>0</th>\n",
       "      <td>0h 1min. 50sec.</td>\n",
       "      <td>3/31/2011 23:58</td>\n",
       "      <td>4/1/2011 0:00</td>\n",
       "      <td>14th &amp; Harvard St NW (31105)</td>\n",
       "      <td>16th &amp; Harvard St NW (31103)</td>\n",
       "      <td>W00749</td>\n",
       "      <td>Registered</td>\n",
       "    </tr>\n",
       "    <tr>\n",
       "      <th>1</th>\n",
       "      <td>0h 16min. 21sec.</td>\n",
       "      <td>3/31/2011 23:52</td>\n",
       "      <td>4/1/2011 0:08</td>\n",
       "      <td>19th &amp; L St NW (31224)</td>\n",
       "      <td>7th &amp; Water St SW / SW Waterfront (31609)</td>\n",
       "      <td>W01048</td>\n",
       "      <td>Casual</td>\n",
       "    </tr>\n",
       "    <tr>\n",
       "      <th>2</th>\n",
       "      <td>0h 3min. 19sec.</td>\n",
       "      <td>3/31/2011 23:47</td>\n",
       "      <td>3/31/2011 23:50</td>\n",
       "      <td>Lincoln Park / 13th &amp; East Capitol St NE  (31619)</td>\n",
       "      <td>13th &amp; H St NE (31611)</td>\n",
       "      <td>W00340</td>\n",
       "      <td>Registered</td>\n",
       "    </tr>\n",
       "    <tr>\n",
       "      <th>3</th>\n",
       "      <td>0h 5min. 44sec.</td>\n",
       "      <td>3/31/2011 23:45</td>\n",
       "      <td>3/31/2011 23:50</td>\n",
       "      <td>14th &amp; R St NW (31202)</td>\n",
       "      <td>Massachusetts Ave &amp; Dupont Circle NW (31200)</td>\n",
       "      <td>W00981</td>\n",
       "      <td>Registered</td>\n",
       "    </tr>\n",
       "    <tr>\n",
       "      <th>4</th>\n",
       "      <td>0h 8min. 42sec.</td>\n",
       "      <td>3/31/2011 23:34</td>\n",
       "      <td>3/31/2011 23:43</td>\n",
       "      <td>Park Rd &amp; Holmead Pl NW (31602)</td>\n",
       "      <td>15th &amp; P St NW (31201)</td>\n",
       "      <td>W00449</td>\n",
       "      <td>Registered</td>\n",
       "    </tr>\n",
       "  </tbody>\n",
       "</table>\n",
       "</div>"
      ],
      "text/plain": [
       "           duration       start_date         end_date  \\\n",
       "0   0h 1min. 50sec.  3/31/2011 23:58    4/1/2011 0:00   \n",
       "1  0h 16min. 21sec.  3/31/2011 23:52    4/1/2011 0:08   \n",
       "2   0h 3min. 19sec.  3/31/2011 23:47  3/31/2011 23:50   \n",
       "3   0h 5min. 44sec.  3/31/2011 23:45  3/31/2011 23:50   \n",
       "4   0h 8min. 42sec.  3/31/2011 23:34  3/31/2011 23:43   \n",
       "\n",
       "                                       start_station  \\\n",
       "0                       14th & Harvard St NW (31105)   \n",
       "1                             19th & L St NW (31224)   \n",
       "2  Lincoln Park / 13th & East Capitol St NE  (31619)   \n",
       "3                             14th & R St NW (31202)   \n",
       "4                    Park Rd & Holmead Pl NW (31602)   \n",
       "\n",
       "                                    end_station   bike# member_type  \n",
       "0                  16th & Harvard St NW (31103)  W00749  Registered  \n",
       "1     7th & Water St SW / SW Waterfront (31609)  W01048      Casual  \n",
       "2                        13th & H St NE (31611)  W00340  Registered  \n",
       "3  Massachusetts Ave & Dupont Circle NW (31200)  W00981  Registered  \n",
       "4                        15th & P St NW (31201)  W00449  Registered  "
      ]
     },
     "execution_count": 6,
     "metadata": {},
     "output_type": "execute_result"
    }
   ],
   "source": [
    "df.head()"
   ]
  },
  {
   "cell_type": "code",
   "execution_count": 7,
   "metadata": {},
   "outputs": [
    {
     "name": "stdout",
     "output_type": "stream",
     "text": [
      "<class 'pandas.core.frame.DataFrame'>\n",
      "RangeIndex: 1240421 entries, 0 to 1240420\n",
      "Data columns (total 7 columns):\n",
      "duration         1240421 non-null object\n",
      "start_date       1240421 non-null object\n",
      "end_date         1240421 non-null object\n",
      "start_station    1240421 non-null object\n",
      "end_station      1240421 non-null object\n",
      "bike#            1240421 non-null object\n",
      "member_type      1240421 non-null object\n",
      "dtypes: object(7)\n",
      "memory usage: 66.2+ MB\n"
     ]
    }
   ],
   "source": [
    "df.info()"
   ]
  },
  {
   "cell_type": "markdown",
   "metadata": {},
   "source": [
    "## Find the Outliers\n",
    "\n",
    "The upper_whisker is 2204s."
   ]
  },
  {
   "cell_type": "markdown",
   "metadata": {},
   "source": [
    "__ 1. Convert the duration from object to integer. __"
   ]
  },
  {
   "cell_type": "code",
   "execution_count": 8,
   "metadata": {
    "collapsed": true
   },
   "outputs": [],
   "source": [
    "# Reformat the \"duration\" to \"hh:mm:ss\" and store in good_time_str\n",
    "def get_time(time_str):\n",
    "    matches = re.findall('\\d+',time_str)\n",
    "    return matches[0]+':'+matches[1]+':'+matches[2]\n",
    "\n",
    "# Conver the good_time_str to integer which is the duration in seconds. \n",
    "def get_sec(time_str):\n",
    "    h, m, s = time_str.split(':')\n",
    "    return int(h) * 3600 + int(m) * 60 + int(s)\n",
    "\n",
    "good_time_str = df.duration.apply(get_time)\n",
    "good_time_str = good_time_str.apply(get_sec)\n",
    "\n",
    "# Add the series to the DataFrame as column \"duration_in_sec\"\n",
    "df['duration_in_sec'] = good_time_str"
   ]
  },
  {
   "cell_type": "code",
   "execution_count": 9,
   "metadata": {
    "scrolled": true
   },
   "outputs": [
    {
     "data": {
      "text/html": [
       "<div>\n",
       "<style>\n",
       "    .dataframe thead tr:only-child th {\n",
       "        text-align: right;\n",
       "    }\n",
       "\n",
       "    .dataframe thead th {\n",
       "        text-align: left;\n",
       "    }\n",
       "\n",
       "    .dataframe tbody tr th {\n",
       "        vertical-align: top;\n",
       "    }\n",
       "</style>\n",
       "<table border=\"1\" class=\"dataframe\">\n",
       "  <thead>\n",
       "    <tr style=\"text-align: right;\">\n",
       "      <th></th>\n",
       "      <th>duration</th>\n",
       "      <th>start_date</th>\n",
       "      <th>end_date</th>\n",
       "      <th>start_station</th>\n",
       "      <th>end_station</th>\n",
       "      <th>bike#</th>\n",
       "      <th>member_type</th>\n",
       "      <th>duration_in_sec</th>\n",
       "    </tr>\n",
       "  </thead>\n",
       "  <tbody>\n",
       "    <tr>\n",
       "      <th>0</th>\n",
       "      <td>0h 1min. 50sec.</td>\n",
       "      <td>3/31/2011 23:58</td>\n",
       "      <td>4/1/2011 0:00</td>\n",
       "      <td>14th &amp; Harvard St NW (31105)</td>\n",
       "      <td>16th &amp; Harvard St NW (31103)</td>\n",
       "      <td>W00749</td>\n",
       "      <td>Registered</td>\n",
       "      <td>110</td>\n",
       "    </tr>\n",
       "    <tr>\n",
       "      <th>1</th>\n",
       "      <td>0h 16min. 21sec.</td>\n",
       "      <td>3/31/2011 23:52</td>\n",
       "      <td>4/1/2011 0:08</td>\n",
       "      <td>19th &amp; L St NW (31224)</td>\n",
       "      <td>7th &amp; Water St SW / SW Waterfront (31609)</td>\n",
       "      <td>W01048</td>\n",
       "      <td>Casual</td>\n",
       "      <td>981</td>\n",
       "    </tr>\n",
       "    <tr>\n",
       "      <th>2</th>\n",
       "      <td>0h 3min. 19sec.</td>\n",
       "      <td>3/31/2011 23:47</td>\n",
       "      <td>3/31/2011 23:50</td>\n",
       "      <td>Lincoln Park / 13th &amp; East Capitol St NE  (31619)</td>\n",
       "      <td>13th &amp; H St NE (31611)</td>\n",
       "      <td>W00340</td>\n",
       "      <td>Registered</td>\n",
       "      <td>199</td>\n",
       "    </tr>\n",
       "    <tr>\n",
       "      <th>3</th>\n",
       "      <td>0h 5min. 44sec.</td>\n",
       "      <td>3/31/2011 23:45</td>\n",
       "      <td>3/31/2011 23:50</td>\n",
       "      <td>14th &amp; R St NW (31202)</td>\n",
       "      <td>Massachusetts Ave &amp; Dupont Circle NW (31200)</td>\n",
       "      <td>W00981</td>\n",
       "      <td>Registered</td>\n",
       "      <td>344</td>\n",
       "    </tr>\n",
       "    <tr>\n",
       "      <th>4</th>\n",
       "      <td>0h 8min. 42sec.</td>\n",
       "      <td>3/31/2011 23:34</td>\n",
       "      <td>3/31/2011 23:43</td>\n",
       "      <td>Park Rd &amp; Holmead Pl NW (31602)</td>\n",
       "      <td>15th &amp; P St NW (31201)</td>\n",
       "      <td>W00449</td>\n",
       "      <td>Registered</td>\n",
       "      <td>522</td>\n",
       "    </tr>\n",
       "  </tbody>\n",
       "</table>\n",
       "</div>"
      ],
      "text/plain": [
       "           duration       start_date         end_date  \\\n",
       "0   0h 1min. 50sec.  3/31/2011 23:58    4/1/2011 0:00   \n",
       "1  0h 16min. 21sec.  3/31/2011 23:52    4/1/2011 0:08   \n",
       "2   0h 3min. 19sec.  3/31/2011 23:47  3/31/2011 23:50   \n",
       "3   0h 5min. 44sec.  3/31/2011 23:45  3/31/2011 23:50   \n",
       "4   0h 8min. 42sec.  3/31/2011 23:34  3/31/2011 23:43   \n",
       "\n",
       "                                       start_station  \\\n",
       "0                       14th & Harvard St NW (31105)   \n",
       "1                             19th & L St NW (31224)   \n",
       "2  Lincoln Park / 13th & East Capitol St NE  (31619)   \n",
       "3                             14th & R St NW (31202)   \n",
       "4                    Park Rd & Holmead Pl NW (31602)   \n",
       "\n",
       "                                    end_station   bike# member_type  \\\n",
       "0                  16th & Harvard St NW (31103)  W00749  Registered   \n",
       "1     7th & Water St SW / SW Waterfront (31609)  W01048      Casual   \n",
       "2                        13th & H St NE (31611)  W00340  Registered   \n",
       "3  Massachusetts Ave & Dupont Circle NW (31200)  W00981  Registered   \n",
       "4                        15th & P St NW (31201)  W00449  Registered   \n",
       "\n",
       "   duration_in_sec  \n",
       "0              110  \n",
       "1              981  \n",
       "2              199  \n",
       "3              344  \n",
       "4              522  "
      ]
     },
     "execution_count": 9,
     "metadata": {},
     "output_type": "execute_result"
    }
   ],
   "source": [
    "df.head()"
   ]
  },
  {
   "cell_type": "code",
   "execution_count": 10,
   "metadata": {},
   "outputs": [
    {
     "name": "stdout",
     "output_type": "stream",
     "text": [
      "<class 'pandas.core.frame.DataFrame'>\n",
      "RangeIndex: 1240421 entries, 0 to 1240420\n",
      "Data columns (total 8 columns):\n",
      "duration           1240421 non-null object\n",
      "start_date         1240421 non-null object\n",
      "end_date           1240421 non-null object\n",
      "start_station      1240421 non-null object\n",
      "end_station        1240421 non-null object\n",
      "bike#              1240421 non-null object\n",
      "member_type        1240421 non-null object\n",
      "duration_in_sec    1240421 non-null int64\n",
      "dtypes: int64(1), object(7)\n",
      "memory usage: 75.7+ MB\n"
     ]
    }
   ],
   "source": [
    "df.info()"
   ]
  },
  {
   "cell_type": "markdown",
   "metadata": {},
   "source": [
    "__ 2. Draw a box plot and find the wiskers. __"
   ]
  },
  {
   "cell_type": "code",
   "execution_count": 11,
   "metadata": {},
   "outputs": [
    {
     "data": {
      "text/plain": [
       "count    1.240421e+06\n",
       "mean     1.195695e+03\n",
       "std      4.593984e+03\n",
       "min      0.000000e+00\n",
       "25%      4.070000e+02\n",
       "50%      6.760000e+02\n",
       "75%      1.126000e+03\n",
       "max      3.356405e+06\n",
       "Name: duration_in_sec, dtype: float64"
      ]
     },
     "execution_count": 11,
     "metadata": {},
     "output_type": "execute_result"
    }
   ],
   "source": [
    "df.duration_in_sec.describe()"
   ]
  },
  {
   "cell_type": "code",
   "execution_count": 12,
   "metadata": {},
   "outputs": [
    {
     "data": {
      "image/png": "[encoded data removed]",
      "text/plain": [
       "<matplotlib.figure.Figure at 0x1111c1eb8>"
      ]
     },
     "metadata": {},
     "output_type": "display_data"
    }
   ],
   "source": [
    "db = plt.boxplot(df.duration_in_sec)\n",
    "plt.yscale('log')\n",
    "plt.ylabel('[seconds]')\n",
    "plt.xlabel('duration_in_sec')\n",
    "plt.show()"
   ]
  },
  {
   "cell_type": "markdown",
   "metadata": {},
   "source": [
    "__ Upper_whisker is obtained from the box plot. __"
   ]
  },
  {
   "cell_type": "code",
   "execution_count": 13,
   "metadata": {
    "collapsed": true
   },
   "outputs": [],
   "source": [
    "upper_whisker = db['whiskers'][1].get_data()[1][1]"
   ]
  },
  {
   "cell_type": "code",
   "execution_count": 14,
   "metadata": {},
   "outputs": [
    {
     "data": {
      "text/plain": [
       "2204.0"
      ]
     },
     "execution_count": 14,
     "metadata": {},
     "output_type": "execute_result"
    }
   ],
   "source": [
    "upper_whisker"
   ]
  },
  {
   "cell_type": "markdown",
   "metadata": {},
   "source": [
    "__ The lower_whisker is set to 20 instead of 0. __"
   ]
  },
  {
   "cell_type": "code",
   "execution_count": 15,
   "metadata": {
    "collapsed": true
   },
   "outputs": [],
   "source": [
    "lower_whisker = 20"
   ]
  },
  {
   "cell_type": "markdown",
   "metadata": {},
   "source": [
    "__ 3. Remove the outliers. __ "
   ]
  },
  {
   "cell_type": "code",
   "execution_count": 16,
   "metadata": {
    "collapsed": true
   },
   "outputs": [],
   "source": [
    "inlier_1 = (df.duration_in_sec <upper_whisker)"
   ]
  },
  {
   "cell_type": "code",
   "execution_count": 17,
   "metadata": {},
   "outputs": [
    {
     "data": {
      "text/plain": [
       "True     1137123\n",
       "False     103298\n",
       "Name: duration_in_sec, dtype: int64"
      ]
     },
     "execution_count": 17,
     "metadata": {},
     "output_type": "execute_result"
    }
   ],
   "source": [
    "# number of outlier above upper whisker is 103298.\n",
    "inlier_1.value_counts()"
   ]
  },
  {
   "cell_type": "code",
   "execution_count": 18,
   "metadata": {
    "collapsed": true
   },
   "outputs": [],
   "source": [
    "df = df[df.duration_in_sec < upper_whisker]"
   ]
  },
  {
   "cell_type": "code",
   "execution_count": 19,
   "metadata": {},
   "outputs": [
    {
     "name": "stdout",
     "output_type": "stream",
     "text": [
      "<class 'pandas.core.frame.DataFrame'>\n",
      "Int64Index: 1137123 entries, 0 to 1240420\n",
      "Data columns (total 8 columns):\n",
      "duration           1137123 non-null object\n",
      "start_date         1137123 non-null object\n",
      "end_date           1137123 non-null object\n",
      "start_station      1137123 non-null object\n",
      "end_station        1137123 non-null object\n",
      "bike#              1137123 non-null object\n",
      "member_type        1137123 non-null object\n",
      "duration_in_sec    1137123 non-null int64\n",
      "dtypes: int64(1), object(7)\n",
      "memory usage: 78.1+ MB\n"
     ]
    }
   ],
   "source": [
    "df.info()"
   ]
  },
  {
   "cell_type": "code",
   "execution_count": 20,
   "metadata": {},
   "outputs": [
    {
     "data": {
      "text/plain": [
       "False    1127668\n",
       "True        9455\n",
       "Name: duration_in_sec, dtype: int64"
      ]
     },
     "execution_count": 20,
     "metadata": {},
     "output_type": "execute_result"
    }
   ],
   "source": [
    "# number of outlier below the lower whisker is 9455.\n",
    "inlier_2 = (df.duration_in_sec < lower_whisker)\n",
    "inlier_2.value_counts()"
   ]
  },
  {
   "cell_type": "code",
   "execution_count": 21,
   "metadata": {},
   "outputs": [
    {
     "name": "stdout",
     "output_type": "stream",
     "text": [
      "<class 'pandas.core.frame.DataFrame'>\n",
      "Int64Index: 1127471 entries, 0 to 1240420\n",
      "Data columns (total 8 columns):\n",
      "duration           1127471 non-null object\n",
      "start_date         1127471 non-null object\n",
      "end_date           1127471 non-null object\n",
      "start_station      1127471 non-null object\n",
      "end_station        1127471 non-null object\n",
      "bike#              1127471 non-null object\n",
      "member_type        1127471 non-null object\n",
      "duration_in_sec    1127471 non-null int64\n",
      "dtypes: int64(1), object(7)\n",
      "memory usage: 77.4+ MB\n"
     ]
    }
   ],
   "source": [
    "df = df[df.duration_in_sec > lower_whisker]\n",
    "df.info()"
   ]
  },
  {
   "cell_type": "markdown",
   "metadata": {},
   "source": [
    "# Extract the station name. "
   ]
  },
  {
   "cell_type": "markdown",
   "metadata": {},
   "source": [
    "__ 1. check whether all station entries has a code. __"
   ]
  },
  {
   "cell_type": "code",
   "execution_count": 22,
   "metadata": {},
   "outputs": [
    {
     "name": "stdout",
     "output_type": "stream",
     "text": [
      "True    1127471\n",
      "Name: start_station, dtype: int64\n",
      "True    1127471\n",
      "Name: end_station, dtype: int64\n"
     ]
    }
   ],
   "source": [
    "# check whether all start_station entries has a code.\n",
    "def check_code(station_str):\n",
    "    matches = re.findall('\\(\\d+\\)', station_str)\n",
    "    return len(matches) != 0\n",
    "start_station_with_code = df.start_station.apply(check_code)\n",
    "end_station_with_code = df.end_station.apply(check_code)\n",
    "print(start_station_with_code.value_counts())\n",
    "print(end_station_with_code.value_counts())"
   ]
  },
  {
   "cell_type": "markdown",
   "metadata": {},
   "source": [
    "__ 2. Extract the start and end station name, add to the DataFrame. __"
   ]
  },
  {
   "cell_type": "code",
   "execution_count": 23,
   "metadata": {
    "collapsed": true
   },
   "outputs": [],
   "source": [
    "# Extracting the name of station. \n",
    "def get_name(station_str):\n",
    "    matches = re.findall('\\(\\d+\\)', station_str)\n",
    "    code_str = matches[0]\n",
    "    name_str = station_str.replace(code_str,'')\n",
    "    return name_str\n",
    "\n",
    "start_station_name = df.start_station.apply(get_name)\n",
    "end_station_name = df.end_station.apply(get_name)"
   ]
  },
  {
   "cell_type": "code",
   "execution_count": 24,
   "metadata": {
    "collapsed": true
   },
   "outputs": [],
   "source": [
    "# remove the leading and trailing spaces. \n",
    "start_station_name = start_station_name.apply(lambda n: n.strip())\n",
    "end_station_name = end_station_name.apply(lambda n: n.strip())"
   ]
  },
  {
   "cell_type": "code",
   "execution_count": 25,
   "metadata": {},
   "outputs": [
    {
     "data": {
      "text/plain": [
       "0                        14th & Harvard St NW\n",
       "1                              19th & L St NW\n",
       "2    Lincoln Park / 13th & East Capitol St NE\n",
       "3                              14th & R St NW\n",
       "4                     Park Rd & Holmead Pl NW\n",
       "Name: start_station, dtype: object"
      ]
     },
     "execution_count": 25,
     "metadata": {},
     "output_type": "execute_result"
    }
   ],
   "source": [
    "start_station_name[:5]"
   ]
  },
  {
   "cell_type": "code",
   "execution_count": 26,
   "metadata": {},
   "outputs": [
    {
     "data": {
      "text/plain": [
       "0                    16th & Harvard St NW\n",
       "1       7th & Water St SW / SW Waterfront\n",
       "2                          13th & H St NE\n",
       "3    Massachusetts Ave & Dupont Circle NW\n",
       "4                          15th & P St NW\n",
       "Name: end_station, dtype: object"
      ]
     },
     "execution_count": 26,
     "metadata": {},
     "output_type": "execute_result"
    }
   ],
   "source": [
    "end_station_name[:5]"
   ]
  },
  {
   "cell_type": "code",
   "execution_count": 27,
   "metadata": {
    "collapsed": true
   },
   "outputs": [],
   "source": [
    "df['start_station_name'] = start_station_name\n",
    "df['end_station_name'] = end_station_name"
   ]
  },
  {
   "cell_type": "code",
   "execution_count": 28,
   "metadata": {},
   "outputs": [
    {
     "data": {
      "text/html": [
       "<div>\n",
       "<style>\n",
       "    .dataframe thead tr:only-child th {\n",
       "        text-align: right;\n",
       "    }\n",
       "\n",
       "    .dataframe thead th {\n",
       "        text-align: left;\n",
       "    }\n",
       "\n",
       "    .dataframe tbody tr th {\n",
       "        vertical-align: top;\n",
       "    }\n",
       "</style>\n",
       "<table border=\"1\" class=\"dataframe\">\n",
       "  <thead>\n",
       "    <tr style=\"text-align: right;\">\n",
       "      <th></th>\n",
       "      <th>duration</th>\n",
       "      <th>start_date</th>\n",
       "      <th>end_date</th>\n",
       "      <th>start_station</th>\n",
       "      <th>end_station</th>\n",
       "      <th>bike#</th>\n",
       "      <th>member_type</th>\n",
       "      <th>duration_in_sec</th>\n",
       "      <th>start_station_name</th>\n",
       "      <th>end_station_name</th>\n",
       "    </tr>\n",
       "  </thead>\n",
       "  <tbody>\n",
       "    <tr>\n",
       "      <th>0</th>\n",
       "      <td>0h 1min. 50sec.</td>\n",
       "      <td>3/31/2011 23:58</td>\n",
       "      <td>4/1/2011 0:00</td>\n",
       "      <td>14th &amp; Harvard St NW (31105)</td>\n",
       "      <td>16th &amp; Harvard St NW (31103)</td>\n",
       "      <td>W00749</td>\n",
       "      <td>Registered</td>\n",
       "      <td>110</td>\n",
       "      <td>14th &amp; Harvard St NW</td>\n",
       "      <td>16th &amp; Harvard St NW</td>\n",
       "    </tr>\n",
       "    <tr>\n",
       "      <th>1</th>\n",
       "      <td>0h 16min. 21sec.</td>\n",
       "      <td>3/31/2011 23:52</td>\n",
       "      <td>4/1/2011 0:08</td>\n",
       "      <td>19th &amp; L St NW (31224)</td>\n",
       "      <td>7th &amp; Water St SW / SW Waterfront (31609)</td>\n",
       "      <td>W01048</td>\n",
       "      <td>Casual</td>\n",
       "      <td>981</td>\n",
       "      <td>19th &amp; L St NW</td>\n",
       "      <td>7th &amp; Water St SW / SW Waterfront</td>\n",
       "    </tr>\n",
       "    <tr>\n",
       "      <th>2</th>\n",
       "      <td>0h 3min. 19sec.</td>\n",
       "      <td>3/31/2011 23:47</td>\n",
       "      <td>3/31/2011 23:50</td>\n",
       "      <td>Lincoln Park / 13th &amp; East Capitol St NE  (31619)</td>\n",
       "      <td>13th &amp; H St NE (31611)</td>\n",
       "      <td>W00340</td>\n",
       "      <td>Registered</td>\n",
       "      <td>199</td>\n",
       "      <td>Lincoln Park / 13th &amp; East Capitol St NE</td>\n",
       "      <td>13th &amp; H St NE</td>\n",
       "    </tr>\n",
       "    <tr>\n",
       "      <th>3</th>\n",
       "      <td>0h 5min. 44sec.</td>\n",
       "      <td>3/31/2011 23:45</td>\n",
       "      <td>3/31/2011 23:50</td>\n",
       "      <td>14th &amp; R St NW (31202)</td>\n",
       "      <td>Massachusetts Ave &amp; Dupont Circle NW (31200)</td>\n",
       "      <td>W00981</td>\n",
       "      <td>Registered</td>\n",
       "      <td>344</td>\n",
       "      <td>14th &amp; R St NW</td>\n",
       "      <td>Massachusetts Ave &amp; Dupont Circle NW</td>\n",
       "    </tr>\n",
       "    <tr>\n",
       "      <th>4</th>\n",
       "      <td>0h 8min. 42sec.</td>\n",
       "      <td>3/31/2011 23:34</td>\n",
       "      <td>3/31/2011 23:43</td>\n",
       "      <td>Park Rd &amp; Holmead Pl NW (31602)</td>\n",
       "      <td>15th &amp; P St NW (31201)</td>\n",
       "      <td>W00449</td>\n",
       "      <td>Registered</td>\n",
       "      <td>522</td>\n",
       "      <td>Park Rd &amp; Holmead Pl NW</td>\n",
       "      <td>15th &amp; P St NW</td>\n",
       "    </tr>\n",
       "  </tbody>\n",
       "</table>\n",
       "</div>"
      ],
      "text/plain": [
       "           duration       start_date         end_date  \\\n",
       "0   0h 1min. 50sec.  3/31/2011 23:58    4/1/2011 0:00   \n",
       "1  0h 16min. 21sec.  3/31/2011 23:52    4/1/2011 0:08   \n",
       "2   0h 3min. 19sec.  3/31/2011 23:47  3/31/2011 23:50   \n",
       "3   0h 5min. 44sec.  3/31/2011 23:45  3/31/2011 23:50   \n",
       "4   0h 8min. 42sec.  3/31/2011 23:34  3/31/2011 23:43   \n",
       "\n",
       "                                       start_station  \\\n",
       "0                       14th & Harvard St NW (31105)   \n",
       "1                             19th & L St NW (31224)   \n",
       "2  Lincoln Park / 13th & East Capitol St NE  (31619)   \n",
       "3                             14th & R St NW (31202)   \n",
       "4                    Park Rd & Holmead Pl NW (31602)   \n",
       "\n",
       "                                    end_station   bike# member_type  \\\n",
       "0                  16th & Harvard St NW (31103)  W00749  Registered   \n",
       "1     7th & Water St SW / SW Waterfront (31609)  W01048      Casual   \n",
       "2                        13th & H St NE (31611)  W00340  Registered   \n",
       "3  Massachusetts Ave & Dupont Circle NW (31200)  W00981  Registered   \n",
       "4                        15th & P St NW (31201)  W00449  Registered   \n",
       "\n",
       "   duration_in_sec                        start_station_name  \\\n",
       "0              110                      14th & Harvard St NW   \n",
       "1              981                            19th & L St NW   \n",
       "2              199  Lincoln Park / 13th & East Capitol St NE   \n",
       "3              344                            14th & R St NW   \n",
       "4              522                   Park Rd & Holmead Pl NW   \n",
       "\n",
       "                       end_station_name  \n",
       "0                  16th & Harvard St NW  \n",
       "1     7th & Water St SW / SW Waterfront  \n",
       "2                        13th & H St NE  \n",
       "3  Massachusetts Ave & Dupont Circle NW  \n",
       "4                        15th & P St NW  "
      ]
     },
     "execution_count": 28,
     "metadata": {},
     "output_type": "execute_result"
    }
   ],
   "source": [
    "df.head()"
   ]
  },
  {
   "cell_type": "code",
   "execution_count": 29,
   "metadata": {},
   "outputs": [
    {
     "name": "stdout",
     "output_type": "stream",
     "text": [
      "<class 'pandas.core.frame.DataFrame'>\n",
      "Int64Index: 1127471 entries, 0 to 1240420\n",
      "Data columns (total 10 columns):\n",
      "duration              1127471 non-null object\n",
      "start_date            1127471 non-null object\n",
      "end_date              1127471 non-null object\n",
      "start_station         1127471 non-null object\n",
      "end_station           1127471 non-null object\n",
      "bike#                 1127471 non-null object\n",
      "member_type           1127471 non-null object\n",
      "duration_in_sec       1127471 non-null int64\n",
      "start_station_name    1127471 non-null object\n",
      "end_station_name      1127471 non-null object\n",
      "dtypes: int64(1), object(9)\n",
      "memory usage: 94.6+ MB\n"
     ]
    }
   ],
   "source": [
    "df.info()"
   ]
  },
  {
   "cell_type": "markdown",
   "metadata": {
    "collapsed": true
   },
   "source": [
    "# Save to csv file "
   ]
  },
  {
   "cell_type": "code",
   "execution_count": 30,
   "metadata": {
    "collapsed": true
   },
   "outputs": [],
   "source": [
    "df_final = df[['start_date','end_date','duration_in_sec','start_station_name','end_station_name','bike#','member_type']]"
   ]
  },
  {
   "cell_type": "code",
   "execution_count": 31,
   "metadata": {},
   "outputs": [
    {
     "name": "stdout",
     "output_type": "stream",
     "text": [
      "<class 'pandas.core.frame.DataFrame'>\n",
      "Int64Index: 1127471 entries, 0 to 1240420\n",
      "Data columns (total 7 columns):\n",
      "start_date            1127471 non-null object\n",
      "end_date              1127471 non-null object\n",
      "duration_in_sec       1127471 non-null int64\n",
      "start_station_name    1127471 non-null object\n",
      "end_station_name      1127471 non-null object\n",
      "bike#                 1127471 non-null object\n",
      "member_type           1127471 non-null object\n",
      "dtypes: int64(1), object(6)\n",
      "memory usage: 68.8+ MB\n"
     ]
    }
   ],
   "source": [
    "df_final.info()"
   ]
  },
  {
   "cell_type": "code",
   "execution_count": 34,
   "metadata": {
    "collapsed": true
   },
   "outputs": [],
   "source": [
    "df_final.to_csv('data/2011-cabi-trip-history-data.csv', index = False)"
   ]
  },
  {
   "cell_type": "code",
   "execution_count": 35,
   "metadata": {
    "collapsed": true
   },
   "outputs": [],
   "source": [
    "# takes 5 min 37 sec to parse the datetime.\n",
    "df_new = pd.read_csv('data/2011-cabi-trip-history-data.csv',parse_dates=[0,1])"
   ]
  },
  {
   "cell_type": "code",
   "execution_count": 37,
   "metadata": {
    "collapsed": true
   },
   "outputs": [],
   "source": [
    "df_new.to_csv('data/2011-cabi-trip-history-data-final.csv', index = False)"
   ]
  },
  {
   "cell_type": "code",
   "execution_count": 40,
   "metadata": {
    "collapsed": true
   },
   "outputs": [],
   "source": [
    "# takes 5 sec to parse the datetime. \n",
    "df_new_2 = pd.read_csv('data/2011-cabi-trip-history-data-final.csv',parse_dates=[0,1])"
   ]
  },
  {
   "cell_type": "code",
   "execution_count": 41,
   "metadata": {},
   "outputs": [
    {
     "name": "stdout",
     "output_type": "stream",
     "text": [
      "<class 'pandas.core.frame.DataFrame'>\n",
      "RangeIndex: 1127471 entries, 0 to 1127470\n",
      "Data columns (total 7 columns):\n",
      "start_date            1127471 non-null datetime64[ns]\n",
      "end_date              1127471 non-null datetime64[ns]\n",
      "duration_in_sec       1127471 non-null int64\n",
      "start_station_name    1127471 non-null object\n",
      "end_station_name      1127471 non-null object\n",
      "bike#                 1127471 non-null object\n",
      "member_type           1127471 non-null object\n",
      "dtypes: datetime64[ns](2), int64(1), object(4)\n",
      "memory usage: 60.2+ MB\n"
     ]
    }
   ],
   "source": [
    "df_new_2.info()"
   ]
  }
 ],
 "metadata": {
  "kernelspec": {
   "display_name": "Python 3",
   "language": "python",
   "name": "python3"
  },
  "language_info": {
   "codemirror_mode": {
    "name": "ipython",
    "version": 3
   },
   "file_extension": ".py",
   "mimetype": "text/x-python",
   "name": "python",
   "nbconvert_exporter": "python",
   "pygments_lexer": "ipython3",
   "version": "3.6.2"
  }
 },
 "nbformat": 4,
 "nbformat_minor": 2
}
